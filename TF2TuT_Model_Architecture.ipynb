{
 "cells": [
  {
   "cell_type": "code",
   "execution_count": 1,
   "metadata": {},
   "outputs": [],
   "source": [
    "import tensorflow as tf\n",
    "from tensorflow import keras\n"
   ]
  },
  {
   "cell_type": "code",
   "execution_count": 3,
   "metadata": {},
   "outputs": [],
   "source": [
    "file_path = \"path/EffNetVS_bn1280.json\"\n"
   ]
  },
  {
   "cell_type": "code",
   "execution_count": null,
   "metadata": {},
   "outputs": [],
   "source": [
    "import json\n",
    "with open(file_path) as f:\n",
    "    json_data = json.load(f) # json lood from file --- output dictionary\n",
    "    \n",
    "json_config = json.dumps(json_data) # json dumps take a dictionary as input \n",
    "# and returns a string as output\n",
    "\n",
    "json.loads(json_config) # json loads take string as input and returns back dictionary"
   ]
  },
  {
   "cell_type": "code",
   "execution_count": 7,
   "metadata": {},
   "outputs": [
    {
     "name": "stderr",
     "output_type": "stream",
     "text": [
      "2023-04-07 11:56:38.906249: W tensorflow/stream_executor/platform/default/dso_loader.cc:64] Could not load dynamic library 'libcuda.so.1'; dlerror: libcuda.so.1: cannot open shared object file: No such file or directory\n",
      "2023-04-07 11:56:38.906389: W tensorflow/stream_executor/cuda/cuda_driver.cc:269] failed call to cuInit: UNKNOWN ERROR (303)\n",
      "2023-04-07 11:56:38.906443: I tensorflow/stream_executor/cuda/cuda_diagnostics.cc:156] kernel driver does not appear to be running on this host (LAPTOP-FEMJED9-JYP): /proc/driver/nvidia/version does not exist\n",
      "2023-04-07 11:56:38.907061: I tensorflow/core/platform/cpu_feature_guard.cc:193] This TensorFlow binary is optimized with oneAPI Deep Neural Network Library (oneDNN) to use the following CPU instructions in performance-critical operations:  AVX2 AVX512F AVX512_VNNI FMA\n",
      "To enable them in other operations, rebuild TensorFlow with the appropriate compiler flags.\n"
     ]
    }
   ],
   "source": [
    "new_model = keras.models.model_from_json(json_config)"
   ]
  },
  {
   "cell_type": "code",
   "execution_count": 8,
   "metadata": {},
   "outputs": [
    {
     "name": "stdout",
     "output_type": "stream",
     "text": [
      "Model: \"model\"\n",
      "_________________________________________________________________\n",
      " Layer (type)                Output Shape              Param #   \n",
      "=================================================================\n",
      " input_1 (InputLayer)        [(None, 400, 400, 3)]     0         \n",
      "                                                                 \n",
      " EfficientNetV2S (Functional  (None, None, None, 1280)  20331360 \n",
      " )                                                               \n",
      "                                                                 \n",
      " global_average_pooling2d (G  (None, 1280)             0         \n",
      " lobalAveragePooling2D)                                          \n",
      "                                                                 \n",
      " dropout (Dropout)           (None, 1280)              0         \n",
      "                                                                 \n",
      " dense (Dense)               (None, 1280)              1639680   \n",
      "                                                                 \n",
      " dropout_1 (Dropout)         (None, 1280)              0         \n",
      "                                                                 \n",
      " class (Dense)               (None, 15501)             19856781  \n",
      "                                                                 \n",
      "=================================================================\n",
      "Total params: 41,827,821\n",
      "Trainable params: 41,673,949\n",
      "Non-trainable params: 153,872\n",
      "_________________________________________________________________\n"
     ]
    }
   ],
   "source": [
    "new_model.summary()"
   ]
  },
  {
   "cell_type": "code",
   "execution_count": 12,
   "metadata": {},
   "outputs": [
    {
     "data": {
      "text/plain": [
       "[<keras.layers.convolutional.conv2d.Conv2D at 0x7f54d0d6d400>,\n",
       " <keras.layers.convolutional.conv2d.Conv2D at 0x7f54d0c6a100>,\n",
       " <keras.layers.convolutional.conv2d.Conv2D at 0x7f54d0d6d4c0>,\n",
       " <keras.layers.convolutional.conv2d.Conv2D at 0x7f54d0d6ae50>,\n",
       " <keras.layers.convolutional.conv2d.Conv2D at 0x7f54d0d90c40>,\n",
       " <keras.layers.convolutional.conv2d.Conv2D at 0x7f54d0b24340>,\n",
       " <keras.layers.convolutional.conv2d.Conv2D at 0x7f54d0a63e50>,\n",
       " <keras.layers.convolutional.conv2d.Conv2D at 0x7f54d0b08850>,\n",
       " <keras.layers.convolutional.conv2d.Conv2D at 0x7f54d0aa5dc0>,\n",
       " <keras.layers.convolutional.conv2d.Conv2D at 0x7f54d0c76ee0>,\n",
       " <keras.layers.convolutional.conv2d.Conv2D at 0x7f54d0c6df70>,\n",
       " <keras.layers.convolutional.conv2d.Conv2D at 0x7f54d0c788e0>,\n",
       " <keras.layers.convolutional.conv2d.Conv2D at 0x7f54d0c85f10>,\n",
       " <keras.layers.convolutional.conv2d.Conv2D at 0x7f54d0c85940>,\n",
       " <keras.layers.convolutional.conv2d.Conv2D at 0x7f54d0c23fa0>,\n",
       " <keras.layers.convolutional.conv2d.Conv2D at 0x7f54d0be0a30>,\n",
       " <keras.layers.convolutional.conv2d.Conv2D at 0x7f54d0bf8610>,\n",
       " <keras.layers.convolutional.conv2d.Conv2D at 0x7f54d0bdc9d0>,\n",
       " <keras.layers.convolutional.conv2d.Conv2D at 0x7f54d0b76d00>,\n",
       " <keras.layers.convolutional.conv2d.Conv2D at 0x7f54d0b80370>,\n",
       " <keras.layers.convolutional.conv2d.Conv2D at 0x7f54cdcf4e80>,\n",
       " <keras.layers.convolutional.conv2d.Conv2D at 0x7f54cdd09760>,\n",
       " <keras.layers.convolutional.conv2d.Conv2D at 0x7f54cdd09df0>,\n",
       " <keras.layers.convolutional.conv2d.Conv2D at 0x7f54cdd09d60>,\n",
       " <keras.layers.convolutional.conv2d.Conv2D at 0x7f54cdd12dc0>,\n",
       " <keras.layers.convolutional.conv2d.Conv2D at 0x7f54cdd12df0>,\n",
       " <keras.layers.convolutional.conv2d.Conv2D at 0x7f54cdd17d30>,\n",
       " <keras.layers.convolutional.conv2d.Conv2D at 0x7f54cdc9db80>,\n",
       " <keras.layers.convolutional.conv2d.Conv2D at 0x7f54cdca8580>,\n",
       " <keras.layers.convolutional.conv2d.Conv2D at 0x7f54cdca8b20>,\n",
       " <keras.layers.convolutional.conv2d.Conv2D at 0x7f54cdca8bb0>,\n",
       " <keras.layers.convolutional.conv2d.Conv2D at 0x7f54cdcaa940>,\n",
       " <keras.layers.convolutional.conv2d.Conv2D at 0x7f54cdcb9a00>,\n",
       " <keras.layers.convolutional.conv2d.Conv2D at 0x7f54cdcb9fa0>,\n",
       " <keras.layers.convolutional.conv2d.Conv2D at 0x7f54cdcb9eb0>,\n",
       " <keras.layers.convolutional.conv2d.Conv2D at 0x7f54cdcbedc0>,\n",
       " <keras.layers.convolutional.conv2d.Conv2D at 0x7f54cdccae80>,\n",
       " <keras.layers.convolutional.conv2d.Conv2D at 0x7f54cdccaf10>,\n",
       " <keras.layers.convolutional.conv2d.Conv2D at 0x7f54cdccad60>,\n",
       " <keras.layers.convolutional.conv2d.Conv2D at 0x7f54cdcd6940>,\n",
       " <keras.layers.convolutional.conv2d.Conv2D at 0x7f54cdc60340>,\n",
       " <keras.layers.convolutional.conv2d.Conv2D at 0x7f54cdc608e0>,\n",
       " <keras.layers.convolutional.conv2d.Conv2D at 0x7f54cdc60ee0>,\n",
       " <keras.layers.convolutional.conv2d.Conv2D at 0x7f54cdc65dc0>,\n",
       " <keras.layers.convolutional.conv2d.Conv2D at 0x7f54cdc717c0>,\n",
       " <keras.layers.convolutional.conv2d.Conv2D at 0x7f54cdc71d60>,\n",
       " <keras.layers.convolutional.conv2d.Conv2D at 0x7f54cdc71df0>,\n",
       " <keras.layers.convolutional.conv2d.Conv2D at 0x7f54cdc76a60>,\n",
       " <keras.layers.convolutional.conv2d.Conv2D at 0x7f54cdc7f700>,\n",
       " <keras.layers.convolutional.conv2d.Conv2D at 0x7f54cdc7fca0>,\n",
       " <keras.layers.convolutional.conv2d.Conv2D at 0x7f54cdc7fd30>,\n",
       " <keras.layers.convolutional.conv2d.Conv2D at 0x7f54cdc88ac0>,\n",
       " <keras.layers.convolutional.conv2d.Conv2D at 0x7f54cdc92b80>,\n",
       " <keras.layers.convolutional.conv2d.Conv2D at 0x7f54cdc92c10>,\n",
       " <keras.layers.convolutional.conv2d.Conv2D at 0x7f54cdc92a60>,\n",
       " <keras.layers.convolutional.conv2d.Conv2D at 0x7f54cdc99f40>,\n",
       " <keras.layers.convolutional.conv2d.Conv2D at 0x7f54cdc23fd0>,\n",
       " <keras.layers.convolutional.conv2d.Conv2D at 0x7f54cdc23ee0>,\n",
       " <keras.layers.convolutional.conv2d.Conv2D at 0x7f54cdc28c70>,\n",
       " <keras.layers.convolutional.conv2d.Conv2D at 0x7f54cdc2eac0>,\n",
       " <keras.layers.convolutional.conv2d.Conv2D at 0x7f54cdc3b4c0>,\n",
       " <keras.layers.convolutional.conv2d.Conv2D at 0x7f54cdc3ba60>,\n",
       " <keras.layers.convolutional.conv2d.Conv2D at 0x7f54cdc3baf0>,\n",
       " <keras.layers.convolutional.conv2d.Conv2D at 0x7f54cdc40d00>,\n",
       " <keras.layers.convolutional.conv2d.Conv2D at 0x7f54cdc4b940>,\n",
       " <keras.layers.convolutional.conv2d.Conv2D at 0x7f54cdc4bee0>,\n",
       " <keras.layers.convolutional.conv2d.Conv2D at 0x7f54cdc4bf70>,\n",
       " <keras.layers.convolutional.conv2d.Conv2D at 0x7f54cdc51d00>,\n",
       " <keras.layers.convolutional.conv2d.Conv2D at 0x7f54cdbdddc0>,\n",
       " <keras.layers.convolutional.conv2d.Conv2D at 0x7f54cdbdde50>,\n",
       " <keras.layers.convolutional.conv2d.Conv2D at 0x7f54cdbddca0>,\n",
       " <keras.layers.convolutional.conv2d.Conv2D at 0x7f54cdbe8880>,\n",
       " <keras.layers.convolutional.conv2d.Conv2D at 0x7f54cdbf3280>,\n",
       " <keras.layers.convolutional.conv2d.Conv2D at 0x7f54cdbf3820>,\n",
       " <keras.layers.convolutional.conv2d.Conv2D at 0x7f54cdbf3eb0>,\n",
       " <keras.layers.convolutional.conv2d.Conv2D at 0x7f54cdbf9d00>,\n",
       " <keras.layers.convolutional.conv2d.Conv2D at 0x7f54cdc06700>,\n",
       " <keras.layers.convolutional.conv2d.Conv2D at 0x7f54cdc06ca0>,\n",
       " <keras.layers.convolutional.conv2d.Conv2D at 0x7f54cdc06d30>,\n",
       " <keras.layers.convolutional.conv2d.Conv2D at 0x7f54cdc0cac0>,\n",
       " <keras.layers.convolutional.conv2d.Conv2D at 0x7f54cdc17b80>,\n",
       " <keras.layers.convolutional.conv2d.Conv2D at 0x7f54cdc17c10>,\n",
       " <keras.layers.convolutional.conv2d.Conv2D at 0x7f54cdc17a60>,\n",
       " <keras.layers.convolutional.conv2d.Conv2D at 0x7f54cdb9de20>,\n",
       " <keras.layers.convolutional.conv2d.Conv2D at 0x7f54cdbaaaf0>,\n",
       " <keras.layers.convolutional.conv2d.Conv2D at 0x7f54cdbaab80>,\n",
       " <keras.layers.convolutional.conv2d.Conv2D at 0x7f54cdbaafa0>,\n",
       " <keras.layers.convolutional.conv2d.Conv2D at 0x7f54cdbafeb0>,\n",
       " <keras.layers.convolutional.conv2d.Conv2D at 0x7f54cdbbaf70>,\n",
       " <keras.layers.convolutional.conv2d.Conv2D at 0x7f54cdbbae50>,\n",
       " <keras.layers.convolutional.conv2d.Conv2D at 0x7f54cdbbfbe0>,\n",
       " <keras.layers.convolutional.conv2d.Conv2D at 0x7f54cdbc5a30>,\n",
       " <keras.layers.convolutional.conv2d.Conv2D at 0x7f54cdbd0430>,\n",
       " <keras.layers.convolutional.conv2d.Conv2D at 0x7f54cdbd09d0>,\n",
       " <keras.layers.convolutional.conv2d.Conv2D at 0x7f54cdbd0fd0>,\n",
       " <keras.layers.convolutional.conv2d.Conv2D at 0x7f54cdbd7eb0>,\n",
       " <keras.layers.convolutional.conv2d.Conv2D at 0x7f54cdb618b0>,\n",
       " <keras.layers.convolutional.conv2d.Conv2D at 0x7f54cdb61e50>,\n",
       " <keras.layers.convolutional.conv2d.Conv2D at 0x7f54cdb61ee0>,\n",
       " <keras.layers.convolutional.conv2d.Conv2D at 0x7f54cdb67c70>,\n",
       " <keras.layers.convolutional.conv2d.Conv2D at 0x7f54cdb73d30>,\n",
       " <keras.layers.convolutional.conv2d.Conv2D at 0x7f54cdb73dc0>,\n",
       " <keras.layers.convolutional.conv2d.Conv2D at 0x7f54cdb73c10>,\n",
       " <keras.layers.convolutional.conv2d.Conv2D at 0x7f54cdb79fa0>,\n",
       " <keras.layers.convolutional.conv2d.Conv2D at 0x7f54cdb85eb0>,\n",
       " <keras.layers.convolutional.conv2d.Conv2D at 0x7f54cdb85ee0>,\n",
       " <keras.layers.convolutional.conv2d.Conv2D at 0x7f54cdb8be20>,\n",
       " <keras.layers.convolutional.conv2d.Conv2D at 0x7f54cdb90c70>,\n",
       " <keras.layers.convolutional.conv2d.Conv2D at 0x7f54cdb1d670>,\n",
       " <keras.layers.convolutional.conv2d.Conv2D at 0x7f54cdb1dc10>,\n",
       " <keras.layers.convolutional.conv2d.Conv2D at 0x7f54cdb1dca0>,\n",
       " <keras.layers.convolutional.conv2d.Conv2D at 0x7f54cdb23a30>,\n",
       " <keras.layers.convolutional.conv2d.Conv2D at 0x7f54cdb2daf0>,\n",
       " <keras.layers.convolutional.conv2d.Conv2D at 0x7f54cdb2db80>,\n",
       " <keras.layers.convolutional.conv2d.Conv2D at 0x7f54cdb2dfa0>,\n",
       " <keras.layers.convolutional.conv2d.Conv2D at 0x7f54cdb35eb0>,\n",
       " <keras.layers.convolutional.conv2d.Conv2D at 0x7f54cdb40f70>,\n",
       " <keras.layers.convolutional.conv2d.Conv2D at 0x7f54cdb40e50>,\n",
       " <keras.layers.convolutional.conv2d.Conv2D at 0x7f54cdb46be0>,\n",
       " <keras.layers.convolutional.conv2d.Conv2D at 0x7f54cdb4ca30>,\n",
       " <keras.layers.convolutional.conv2d.Conv2D at 0x7f54cdb56430>,\n",
       " <keras.layers.convolutional.conv2d.Conv2D at 0x7f54cdb569d0>,\n",
       " <keras.layers.convolutional.conv2d.Conv2D at 0x7f54cdb56fd0>,\n",
       " <keras.layers.convolutional.conv2d.Conv2D at 0x7f54cdadaeb0>,\n",
       " <keras.layers.convolutional.conv2d.Conv2D at 0x7f54cdae88b0>,\n",
       " <keras.layers.convolutional.conv2d.Conv2D at 0x7f54cdae8e50>,\n",
       " <keras.layers.convolutional.conv2d.Conv2D at 0x7f54cdae8ee0>,\n",
       " <keras.layers.convolutional.conv2d.Conv2D at 0x7f54cdaefc70>,\n",
       " <keras.layers.convolutional.conv2d.Conv2D at 0x7f54cdaf9d30>,\n",
       " <keras.layers.convolutional.conv2d.Conv2D at 0x7f54cdaf9dc0>,\n",
       " <keras.layers.convolutional.conv2d.Conv2D at 0x7f54cdaf9c10>,\n",
       " <keras.layers.convolutional.conv2d.Conv2D at 0x7f54cdb01fa0>,\n",
       " <keras.layers.convolutional.conv2d.Conv2D at 0x7f54cdb0beb0>,\n",
       " <keras.layers.convolutional.conv2d.Conv2D at 0x7f54cdb0bee0>,\n",
       " <keras.layers.convolutional.conv2d.Conv2D at 0x7f54cdb11e20>,\n",
       " <keras.layers.convolutional.conv2d.Conv2D at 0x7f54cdb15c70>,\n",
       " <keras.layers.convolutional.conv2d.Conv2D at 0x7f54cdaa1670>,\n",
       " <keras.layers.convolutional.conv2d.Conv2D at 0x7f54cdaa1c10>,\n",
       " <keras.layers.convolutional.conv2d.Conv2D at 0x7f54cdaa1ca0>,\n",
       " <keras.layers.convolutional.conv2d.Conv2D at 0x7f54cdaa8a30>]"
      ]
     },
     "execution_count": 12,
     "metadata": {},
     "output_type": "execute_result"
    }
   ],
   "source": [
    "# access nested structure\n",
    "[Layer for Layer in new_model.layers[1].layers if 'conv' in Layer.name]"
   ]
  },
  {
   "cell_type": "code",
   "execution_count": 51,
   "metadata": {},
   "outputs": [
    {
     "data": {
      "text/plain": [
       "[('stem_conv/kernel:0', TensorShape([3, 3, 3, 24])),\n",
       " ('stack_0_block0_fu_conv/kernel:0', TensorShape([3, 3, 24, 24])),\n",
       " ('stack_0_block1_fu_conv/kernel:0', TensorShape([3, 3, 24, 24])),\n",
       " ('stack_1_block0_sortcut_conv/kernel:0', TensorShape([3, 3, 24, 96])),\n",
       " ('stack_1_block1_sortcut_conv/kernel:0', TensorShape([3, 3, 48, 192])),\n",
       " ('stack_1_block2_sortcut_conv/kernel:0', TensorShape([3, 3, 48, 192])),\n",
       " ('stack_1_block3_sortcut_conv/kernel:0', TensorShape([3, 3, 48, 192])),\n",
       " ('stack_2_block0_sortcut_conv/kernel:0', TensorShape([3, 3, 48, 192])),\n",
       " ('stack_2_block1_sortcut_conv/kernel:0', TensorShape([3, 3, 64, 256])),\n",
       " ('stack_2_block2_sortcut_conv/kernel:0', TensorShape([3, 3, 64, 256])),\n",
       " ('stack_2_block3_sortcut_conv/kernel:0', TensorShape([3, 3, 64, 256])),\n",
       " ('stack_3_block0_MB_dw_/depthwise_kernel:0', TensorShape([3, 3, 256, 1])),\n",
       " ('stack_3_block1_MB_dw_/depthwise_kernel:0', TensorShape([3, 3, 512, 1])),\n",
       " ('stack_3_block2_MB_dw_/depthwise_kernel:0', TensorShape([3, 3, 512, 1])),\n",
       " ('stack_3_block3_MB_dw_/depthwise_kernel:0', TensorShape([3, 3, 512, 1])),\n",
       " ('stack_3_block4_MB_dw_/depthwise_kernel:0', TensorShape([3, 3, 512, 1])),\n",
       " ('stack_3_block5_MB_dw_/depthwise_kernel:0', TensorShape([3, 3, 512, 1])),\n",
       " ('stack_4_block0_MB_dw_/depthwise_kernel:0', TensorShape([3, 3, 768, 1])),\n",
       " ('stack_4_block1_MB_dw_/depthwise_kernel:0', TensorShape([3, 3, 960, 1])),\n",
       " ('stack_4_block2_MB_dw_/depthwise_kernel:0', TensorShape([3, 3, 960, 1])),\n",
       " ('stack_4_block3_MB_dw_/depthwise_kernel:0', TensorShape([3, 3, 960, 1])),\n",
       " ('stack_4_block4_MB_dw_/depthwise_kernel:0', TensorShape([3, 3, 960, 1])),\n",
       " ('stack_4_block5_MB_dw_/depthwise_kernel:0', TensorShape([3, 3, 960, 1])),\n",
       " ('stack_4_block6_MB_dw_/depthwise_kernel:0', TensorShape([3, 3, 960, 1])),\n",
       " ('stack_4_block7_MB_dw_/depthwise_kernel:0', TensorShape([3, 3, 960, 1])),\n",
       " ('stack_4_block8_MB_dw_/depthwise_kernel:0', TensorShape([3, 3, 960, 1])),\n",
       " ('stack_5_block0_MB_dw_/depthwise_kernel:0', TensorShape([3, 3, 960, 1])),\n",
       " ('stack_5_block1_MB_dw_/depthwise_kernel:0', TensorShape([3, 3, 1536, 1])),\n",
       " ('stack_5_block2_MB_dw_/depthwise_kernel:0', TensorShape([3, 3, 1536, 1])),\n",
       " ('stack_5_block3_MB_dw_/depthwise_kernel:0', TensorShape([3, 3, 1536, 1])),\n",
       " ('stack_5_block4_MB_dw_/depthwise_kernel:0', TensorShape([3, 3, 1536, 1])),\n",
       " ('stack_5_block5_MB_dw_/depthwise_kernel:0', TensorShape([3, 3, 1536, 1])),\n",
       " ('stack_5_block6_MB_dw_/depthwise_kernel:0', TensorShape([3, 3, 1536, 1])),\n",
       " ('stack_5_block7_MB_dw_/depthwise_kernel:0', TensorShape([3, 3, 1536, 1])),\n",
       " ('stack_5_block8_MB_dw_/depthwise_kernel:0', TensorShape([3, 3, 1536, 1])),\n",
       " ('stack_5_block9_MB_dw_/depthwise_kernel:0', TensorShape([3, 3, 1536, 1])),\n",
       " ('stack_5_block10_MB_dw_/depthwise_kernel:0', TensorShape([3, 3, 1536, 1])),\n",
       " ('stack_5_block11_MB_dw_/depthwise_kernel:0', TensorShape([3, 3, 1536, 1])),\n",
       " ('stack_5_block12_MB_dw_/depthwise_kernel:0', TensorShape([3, 3, 1536, 1])),\n",
       " ('stack_5_block13_MB_dw_/depthwise_kernel:0', TensorShape([3, 3, 1536, 1])),\n",
       " ('stack_5_block14_MB_dw_/depthwise_kernel:0', TensorShape([3, 3, 1536, 1]))]"
      ]
     },
     "execution_count": 51,
     "metadata": {},
     "output_type": "execute_result"
    }
   ],
   "source": [
    "[(w.name, w.shape) for idx, w in enumerate(new_model.weights) if len(w.shape) == 4 and w.shape[0]>1 and w.shape[1]>1]"
   ]
  }
 ],
 "metadata": {
  "kernelspec": {
   "display_name": "base",
   "language": "python",
   "name": "python3"
  },
  "language_info": {
   "codemirror_mode": {
    "name": "ipython",
    "version": 3
   },
   "file_extension": ".py",
   "mimetype": "text/x-python",
   "name": "python",
   "nbconvert_exporter": "python",
   "pygments_lexer": "ipython3",
   "version": "3.9.12"
  },
  "orig_nbformat": 4
 },
 "nbformat": 4,
 "nbformat_minor": 2
}
